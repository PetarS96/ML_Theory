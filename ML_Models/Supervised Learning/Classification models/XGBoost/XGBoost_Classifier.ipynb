{
 "cells": [
  {
   "cell_type": "markdown",
   "metadata": {},
   "source": [
    "# **XGBoost classifier Model Theory**\n",
    "\n",
    "## Theory\n",
    "XGBoost (Extreme Gradient Boosting) is an advanced implementation of gradient boosting optimized for performance and computational efficiency.\n",
    "\n",
    "## Key Features\n",
    "- Regularized gradient boosting algorithm\n",
    "- Handles sparse data efficiently\n",
    "- Parallel tree boosting\n",
    "- Built-in cross-validation\n",
    "- Supports multiple objective functions\n",
    "\n",
    "## Mathematical Foundation\n",
    "- **Objective Function**:\n",
    "$$ \\text{Obj} = \\sum_{i=1}^{n} L(y_i, \\hat{y}_i) + \\sum_{k=1}^{K} \\Omega(f_k) $$\n",
    "\n",
    "## Advantages\n",
    "- Superior predictive performance\n",
    "- Handles missing values automatically\n",
    "- Faster training compared to traditional gradient boosting\n",
    "- Built-in L1/L2 regularization\n",
    "- Feature importance ranking\n",
    "\n",
    "## Hyperparameters\n",
    "- **learning_rate**: Step size shrinkage\n",
    "- **max_depth**: Maximum tree depth\n",
    "- **n_estimators**: Number of trees\n",
    "- **subsample**: Row sampling rate\n",
    "- **colsample_bytree**: Column sampling rate\n",
    "\n",
    "## Implementation Strategies\n",
    "- Use early stopping\n",
    "- Perform hyperparameter tuning\n",
    "- Handle class imbalance\n",
    "- Consider feature engineering\n",
    "\n",
    "## Potential Limitations\n",
    "- Complex model structure\n",
    "- Risk of overfitting\n",
    "- Computationally intensive\n",
    "- Less interpretable than linear models"
   ]
  },
  {
   "cell_type": "markdown",
   "metadata": {},
   "source": [
    "## **Model Evaluation**"
   ]
  },
  {
   "cell_type": "markdown",
   "metadata": {},
   "source": [
    "## Model Evaluation for XGBoost Classifier\n",
    "\n",
    "### 1. Accuracy Score\n",
    "Formula:\n",
    "$$\n",
    "\\text{Accuracy} = \\frac{\\text{TP} + \\text{TN}}{\\text{TP} + \\text{TN} + \\text{FP} + \\text{FN}}\n",
    "$$\n",
    "Description:\n",
    "- Measures overall prediction correctness.\n",
    "- Basic performance metric for classification.\n",
    "Interpretation:\n",
    "- Higher values indicate better model performance.\n",
    "- Should be used with other metrics for comprehensive evaluation.\n",
    "---\n",
    "\n",
    "### 2. Regularization Parameters\n",
    "Formula:\n",
    "$$\n",
    "\\text{Objective} = \\text{Loss} + \\lambda_1 \\sum \\|w\\| + \\lambda_2 \\sum w^2\n",
    "$$\n",
    "Description:\n",
    "- Controls model complexity and prevents overfitting.\n",
    "- Includes L1 (Lasso) and L2 (Ridge) regularization.\n",
    "Interpretation:\n",
    "- Balances model fit and generalization.\n",
    "- Helps in feature selection and reducing variance.\n",
    "---\n",
    "\n",
    "### 3. Feature Importance\n",
    "Description:\n",
    "- Measures feature contribution across boosting iterations.\n",
    "- Calculated using gain, weight, and coverage.\n",
    "Interpretation:\n",
    "- Higher values indicate more influential features.\n",
    "- Helps in feature selection and model understanding.\n",
    "---\n",
    "\n",
    "### 4. Gain\n",
    "Formula:\n",
    "$$\n",
    "\\text{Gain} = \\frac{\\text{Total Gain}}{\\text{Total Number of Splits}}\n",
    "$$\n",
    "Description:\n",
    "- Measures improvement in split quality.\n",
    "- Indicates feature discriminative power.\n",
    "Interpretation:\n",
    "- Higher gain suggests more important features.\n",
    "- Used for ranking feature importance.\n",
    "---\n",
    "\n",
    "### 5. Learning Rate (Eta)\n",
    "Formula:\n",
    "$$\n",
    "f_m(x) = f_{m-1}(x) + \\eta \\cdot \\text{weak learner}\n",
    "$$\n",
    "Description:\n",
    "- Controls contribution of each weak learner.\n",
    "- Shrinks the contribution of individual trees.\n",
    "Interpretation:\n",
    "- Smaller values improve generalization.\n",
    "- Trade-off between model complexity and performance.\n",
    "---\n",
    "\n",
    "### 6. Cross-Validation Performance\n",
    "Description:\n",
    "- K-fold validation results.\n",
    "- Analyzes model stability and generalization.\n",
    "Interpretation:\n",
    "- Consistent performance across folds indicates robustness.\n",
    "- Helps in hyperparameter tuning.\n",
    "---\n",
    "\n",
    "### 7. Tree Complexity\n",
    "Description:\n",
    "- Maximum tree depth and number of trees.\n",
    "- Controls model's flexibility.\n",
    "Interpretation:\n",
    "- Balances between bias and variance.\n",
    "- Prevents overfitting and underfitting.\n",
    "---\n",
    "\n",
    "### 8. ROC-AUC Score\n",
    "Formula:\n",
    "$$\n",
    "\\text{AUC} = \\int_{0}^{1} \\text{TPR}(t)\\text{FPR}'(t)dt\n",
    "$$\n",
    "Description:\n",
    "- Area under Receiver Operating Characteristic curve.\n",
    "- Threshold-independent performance metric.\n",
    "Interpretation:\n",
    "- 1.0 indicates perfect classification.\n",
    "- 0.5 represents random prediction.\n",
    "---\n",
    "\n",
    "### 9. Prediction Probabilities\n",
    "Description:\n",
    "- Calibrated class probability estimates.\n",
    "- Combines predictions from multiple weak learners.\n",
    "Interpretation:\n",
    "- Provides confidence in classification decisions.\n",
    "- Useful for probabilistic classification tasks.\n",
    "---\n",
    "\n",
    "### 10. Early Stopping Metrics\n",
    "Description:\n",
    "- Monitors performance during training.\n",
    "- Prevents unnecessary iterations.\n",
    "Interpretation:\n",
    "- Stops training when performance plateaus.\n",
    "- Improves computational efficiency.\n",
    "---"
   ]
  },
  {
   "cell_type": "markdown",
   "metadata": {},
   "source": [
    "## sklearn template [XGBClassifier](https://xgboost.readthedocs.io/en/stable/python/sklearn_api.html)\n",
    "\n",
    "### class XGBClassifier(*, max_depth=6, learning_rate=0.3, n_estimators=100, verbosity=1, objective='binary:logistic', booster='gbtree', tree_method='auto', n_jobs=1, gamma=0, min_child_weight=1, max_delta_step=0, subsample=1, colsample_bytree=1, colsample_bylevel=1, reg_alpha=0, reg_lambda=1, scale_pos_weight=1, base_score=0.5, random_state=None)\n",
    "\n",
    "| **Parameter**               | **Description**                                                                                                                                     | **Default**      |\n",
    "|----------------------------|----------------------------------------------------------------------------------------------------------------------------------------------------|------------------|\n",
    "| `max_depth`                | Maximum tree depth for base learners                                                                                                                | `6`              |\n",
    "| `learning_rate`            | Boosting learning rate                                                                                                                              | `0.3`            |\n",
    "| `n_estimators`             | Number of gradient boosted trees                                                                                                                    | `100`            |\n",
    "| `objective`                | Specify the learning task and the corresponding learning objective                                                                                  | `'binary:logistic'` |\n",
    "| `booster`                  | Which booster to use                                                                                                                                | `'gbtree'`       |\n",
    "| `tree_method`              | Specify which tree method to use                                                                                                                    | `'auto'`         |\n",
    "| `gamma`                    | Minimum loss reduction required to make a further partition on a leaf node                                                                          | `0`              |\n",
    "| `min_child_weight`         | Minimum sum of instance weight needed in a child                                                                                                    | `1`              |\n",
    "| `subsample`                | Subsample ratio of the training instances                                                                                                           | `1`              |\n",
    "| `colsample_bytree`         | Subsample ratio of columns when constructing each tree                                                                                              | `1`              |\n",
    "\n",
    "-\n",
    "\n",
    "| **Attribute**              | **Description**                                                                                                                                     |\n",
    "|----------------------------|----------------------------------------------------------------------------------------------------------------------------------------------------|\n",
    "| `classes_`                 | The class labels                                                                                                                                    |\n",
    "| `feature_importances_`     | Feature importances                                                                                                                                 |\n",
    "| `n_classes_`               | Number of classes                                                                                                                                   |\n",
    "| `n_features_in_`           | Number of features seen during fit                                                                                                                  |\n",
    "| `best_iteration_`          | The best iteration achieved during training                                                                                                         |\n",
    "\n",
    "-\n",
    "\n",
    "| **Method**                 | **Description**                                                                                                                                     |\n",
    "|----------------------------|----------------------------------------------------------------------------------------------------------------------------------------------------|\n",
    "| `fit(X, y)`                | Fit gradient boosting classifier                                                                                                                    |\n",
    "| `predict(X)`               | Predict classes for X                                                                                                                               |\n",
    "| `predict_proba(X)`         | Predict class probabilities                                                                                                                         |\n",
    "| `score(X, y)`              | Return mean accuracy on the given test data and labels                                                                                              |\n",
    "| `get_booster()`            | Get the underlying XGBoost Booster                                                                                                                  |\n",
    "| `save_model(fname)`        | Save the model to a file                                                                                                                            |\n"
   ]
  },
  {
   "cell_type": "markdown",
   "metadata": {},
   "source": [
    "# XGBoost classifier - Example"
   ]
  },
  {
   "cell_type": "markdown",
   "metadata": {},
   "source": [
    "## Data loading"
   ]
  },
  {
   "cell_type": "code",
   "execution_count": 6,
   "metadata": {},
   "outputs": [],
   "source": [
    "# Import necessary libraries\n",
    "import xgboost as xgb\n",
    "from sklearn.datasets import load_breast_cancer\n",
    "from sklearn.model_selection import train_test_split\n",
    "from sklearn.metrics import accuracy_score, classification_report, confusion_matrix"
   ]
  },
  {
   "cell_type": "markdown",
   "metadata": {},
   "source": [
    "##  Data processing"
   ]
  },
  {
   "cell_type": "code",
   "execution_count": 7,
   "metadata": {},
   "outputs": [
    {
     "name": "stdout",
     "output_type": "stream",
     "text": [
      "Feature names: ['mean radius' 'mean texture' 'mean perimeter' 'mean area'\n",
      " 'mean smoothness' 'mean compactness' 'mean concavity'\n",
      " 'mean concave points' 'mean symmetry' 'mean fractal dimension'\n",
      " 'radius error' 'texture error' 'perimeter error' 'area error'\n",
      " 'smoothness error' 'compactness error' 'concavity error'\n",
      " 'concave points error' 'symmetry error' 'fractal dimension error'\n",
      " 'worst radius' 'worst texture' 'worst perimeter' 'worst area'\n",
      " 'worst smoothness' 'worst compactness' 'worst concavity'\n",
      " 'worst concave points' 'worst symmetry' 'worst fractal dimension']\n",
      "Target labels: ['malignant' 'benign']\n"
     ]
    }
   ],
   "source": [
    "# Load the Breast Cancer dataset\n",
    "data = load_breast_cancer()\n",
    "X = data.data  # Features\n",
    "y = data.target  # Labels\n",
    "\n",
    "# Display feature names and target labels\n",
    "print(\"Feature names:\", data.feature_names)\n",
    "print(\"Target labels:\", data.target_names)"
   ]
  },
  {
   "cell_type": "code",
   "execution_count": 8,
   "metadata": {},
   "outputs": [
    {
     "name": "stdout",
     "output_type": "stream",
     "text": [
      "Training data shape: (455, 30)\n",
      "Testing data shape: (114, 30)\n"
     ]
    }
   ],
   "source": [
    "# Split the data into training (80%) and testing (20%) sets\n",
    "X_train, X_test, y_train, y_test = train_test_split(X, y, test_size=0.2, random_state=42)\n",
    "\n",
    "# Check the shape of the datasets\n",
    "print(\"Training data shape:\", X_train.shape)\n",
    "print(\"Testing data shape:\", X_test.shape)"
   ]
  },
  {
   "cell_type": "markdown",
   "metadata": {},
   "source": [
    "## Plotting data"
   ]
  },
  {
   "cell_type": "code",
   "execution_count": null,
   "metadata": {},
   "outputs": [],
   "source": []
  },
  {
   "cell_type": "markdown",
   "metadata": {},
   "source": [
    "## Model definition"
   ]
  },
  {
   "cell_type": "code",
   "execution_count": 9,
   "metadata": {},
   "outputs": [
    {
     "name": "stdout",
     "output_type": "stream",
     "text": [
      "Model training complete!\n",
      "First 10 predictions: [1 0 0 1 1 0 0 0 0 1]\n"
     ]
    }
   ],
   "source": [
    "# Define the XGBoost classifier\n",
    "model = xgb.XGBClassifier(\n",
    "    objective='binary:logistic',  # Binary classification\n",
    "    n_estimators=100,             # Number of boosting rounds\n",
    "    max_depth=3,                  # Maximum depth of a tree\n",
    "    learning_rate=0.1,            # Learning rate\n",
    "    random_state=42\n",
    ")\n",
    "\n",
    "# Train the model on the training data\n",
    "model.fit(X_train, y_train)\n",
    "\n",
    "# Print a message when training is complete\n",
    "print(\"Model training complete!\")\n",
    "\n",
    "# Make predictions on the test data\n",
    "y_pred = model.predict(X_test)\n",
    "\n",
    "# Display the first 10 predictions\n",
    "print(\"First 10 predictions:\", y_pred[:10])"
   ]
  },
  {
   "cell_type": "markdown",
   "metadata": {},
   "source": [
    "## Model evaulation"
   ]
  },
  {
   "cell_type": "code",
   "execution_count": 10,
   "metadata": {},
   "outputs": [
    {
     "name": "stdout",
     "output_type": "stream",
     "text": [
      "Accuracy: 0.956140350877193\n",
      "\n",
      "Classification Report:\n",
      "              precision    recall  f1-score   support\n",
      "\n",
      "   malignant       0.95      0.93      0.94        43\n",
      "      benign       0.96      0.97      0.97        71\n",
      "\n",
      "    accuracy                           0.96       114\n",
      "   macro avg       0.96      0.95      0.95       114\n",
      "weighted avg       0.96      0.96      0.96       114\n",
      "\n",
      "\n",
      "Confusion Matrix:\n",
      "[[40  3]\n",
      " [ 2 69]]\n"
     ]
    }
   ],
   "source": [
    "# Calculate accuracy\n",
    "accuracy = accuracy_score(y_test, y_pred)\n",
    "print(\"Accuracy:\", accuracy)\n",
    "\n",
    "# Generate a classification report\n",
    "print(\"\\nClassification Report:\")\n",
    "print(classification_report(y_test, y_pred, target_names=data.target_names))\n",
    "\n",
    "# Generate a confusion matrix\n",
    "print(\"\\nConfusion Matrix:\")\n",
    "print(confusion_matrix(y_test, y_pred))"
   ]
  },
  {
   "cell_type": "code",
   "execution_count": 11,
   "metadata": {},
   "outputs": [
    {
     "data": {
      "text/plain": [
       "<Axes: title={'center': 'Feature importance'}, xlabel='F score', ylabel='Features'>"
      ]
     },
     "execution_count": 11,
     "metadata": {},
     "output_type": "execute_result"
    },
    {
     "data": {
      "image/png": "[encoded data removed]",
      "text/plain": [
       "<Figure size 640x480 with 1 Axes>"
      ]
     },
     "metadata": {},
     "output_type": "display_data"
    }
   ],
   "source": [
    "# Plot feature importance\n",
    "xgb.plot_importance(model)"
   ]
  },
  {
   "cell_type": "code",
   "execution_count": null,
   "metadata": {},
   "outputs": [],
   "source": []
  }
 ],
 "metadata": {
  "kernelspec": {
   "display_name": ".venv",
   "language": "python",
   "name": "python3"
  },
  "language_info": {
   "codemirror_mode": {
    "name": "ipython",
    "version": 3
   },
   "file_extension": ".py",
   "mimetype": "text/x-python",
   "name": "python",
   "nbconvert_exporter": "python",
   "pygments_lexer": "ipython3",
   "version": "3.12.3"
  }
 },
 "nbformat": 4,
 "nbformat_minor": 2
}
