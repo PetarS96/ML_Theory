{
 "cells": [
  {
   "cell_type": "markdown",
   "metadata": {},
   "source": [
    "# **S3VM Model Theory**\n"
   ]
  },
  {
   "cell_type": "markdown",
   "metadata": {},
   "source": [
    "## S3VM (Semi-Supervised Support Vector Machine)\n",
    "\n",
    "---\n",
    "\n",
    "## Theory\n",
    "S3VM is a semi-supervised learning technique that combines labeled and unlabeled data to improve the performance of a Support Vector Machine (SVM). In typical SVM, only labeled data is used to find a decision boundary, but in S3VM, both labeled and unlabeled data are considered. The key idea is to find a decision boundary that not only separates the labeled data but also best fits the unlabeled data, by treating them as if they belong to the correct class based on model confidence.\n",
    "\n",
    "The main idea is to:\n",
    "- Train an initial SVM classifier using a small set of labeled data.\n",
    "- Use the classifier to predict labels for the unlabeled data.\n",
    "- Treat the most confident predictions from the classifier as additional labeled data.\n",
    "- Update the classifier by including these new pseudo-labels and repeat the process until convergence.\n",
    "\n",
    "---\n",
    "\n",
    "## Mathematical Foundation\n",
    "- **Model Training**:\n",
    "  In SVM, the objective is to find a hyperplane \\( f(x) \\) that maximizes the margin between classes. This is formulated as:\n",
    "  $$ \\min_w \\frac{1}{2} \\| w \\|^2 \\quad \\text{subject to} \\quad y_i(w \\cdot x_i + b) \\geq 1 \\quad \\forall i \\in L $$\n",
    "\n",
    "- **Unlabeled Data Contribution**:\n",
    "  For unlabeled data \\( U = \\{ x_{n+1}, x_{n+2}, ..., x_{n+m} \\} \\), the classifier is used to predict pseudo-labels \\( \\hat{y}_i \\) based on the decision boundary:\n",
    "  $$ \\hat{y}_i = \\text{sign}(w \\cdot x_i + b) $$\n",
    "\n",
    "- **Objective Function**:\n",
    "  The objective function of S3VM includes both labeled and pseudo-labeled data, penalizing for misclassifications:\n",
    "  $$ \\min_w \\frac{1}{2} \\| w \\|^2 + C_L \\sum_{i \\in L} \\mathcal{L}(y_i, f(x_i)) + C_U \\sum_{i \\in U} \\mathcal{L}(\\hat{y}_i, f(x_i)) $$\n",
    "\n",
    "  where:\n",
    "  - \\( C_L \\) and \\( C_U \\) are regularization parameters for labeled and unlabeled data.\n",
    "  - \\( \\mathcal{L} \\) is a loss function (e.g., hinge loss for classification).\n",
    "\n",
    "---\n",
    "\n",
    "## Algorithm Steps\n",
    "1. **Initialization**:\n",
    "   - Start with a small labeled dataset \\( L \\) and a large unlabeled dataset \\( U \\).\n",
    "\n",
    "2. **Initial SVM Training**:\n",
    "   - Train an SVM model \\( f \\) using the labeled dataset \\( L \\).\n",
    "\n",
    "3. **Predict Pseudo-Labels**:\n",
    "   - Use the model \\( f \\) to predict pseudo-labels for the unlabeled dataset \\( U \\).\n",
    "\n",
    "4. **Select Confident Predictions**:\n",
    "   - Choose the most confident predictions based on the margin from the SVM decision boundary:\n",
    "     $$ \\text{Confidence}(x_i) = |w \\cdot x_i + b| $$\n",
    "\n",
    "5. **Dataset Update**:\n",
    "   - Add the most confident pseudo-labeled examples to the labeled dataset \\( L \\).\n",
    "\n",
    "6. **Model Retraining**:\n",
    "   - Retrain the SVM model using the updated labeled dataset.\n",
    "\n",
    "7. **Repeat**:\n",
    "   - Repeat the process of prediction, selection, and retraining until convergence or a stopping criterion is met.\n",
    "\n",
    "---\n",
    "\n",
    "## Key Parameters\n",
    "- **C_L**: Regularization parameter for labeled data.\n",
    "- **C_U**: Regularization parameter for unlabeled data.\n",
    "- **kernel**: The kernel function used for the SVM (e.g., linear, RBF).\n",
    "- **max_iter**: The maximum number of iterations for the algorithm.\n",
    "- **threshold**: The confidence threshold for selecting pseudo-labeled data.\n",
    "\n",
    "---\n",
    "\n",
    "## Advantages\n",
    "- Can improve the SVM model by using unlabeled data.\n",
    "- Effective when labeled data is scarce or expensive to obtain.\n",
    "- Flexible to different kernel functions and model types.\n",
    "- Can handle large amounts of unlabeled data.\n",
    "\n",
    "---\n",
    "\n",
    "## Disadvantages\n",
    "- Sensitive to the quality of the pseudo-labels.\n",
    "- May propagate errors if the model is not confident in its predictions.\n",
    "- Requires careful tuning of regularization parameters \\( C_L \\) and \\( C_U \\).\n",
    "- Computationally expensive due to retraining after each update.\n",
    "\n",
    "---\n",
    "\n",
    "## Implementation Tips\n",
    "- Use a **well-calibrated SVM** to ensure reliable confidence scores for pseudo-labels.\n",
    "- Start with a **diverse labeled dataset** to avoid bias in initial model predictions.\n",
    "- Consider using a **smaller confidence threshold** initially to avoid incorrect pseudo-labels.\n",
    "- Use **cross-validation** to monitor the performance of the model during updates.\n",
    "\n",
    "---\n",
    "\n",
    "## Applications\n",
    "- Text classification (e.g., sentiment analysis, topic classification).\n",
    "- Image classification (e.g., object detection, facial recognition).\n",
    "- Bioinformatics (e.g., protein classification, gene expression).\n",
    "- Speech recognition (e.g., speaker identification).\n",
    "- Anomaly detection in various domains (e.g., fraud detection, system monitoring).\n",
    "\n",
    "S3VM is a powerful technique for semi-supervised learning, particularly in scenarios where labeled data is limited but large amounts of unlabeled data are available. While it requires careful tuning and evaluation, it can significantly improve the model's performance in many real-world applications.\n"
   ]
  },
  {
   "cell_type": "markdown",
   "metadata": {},
   "source": [
    "## **Model Evaluation for S3VM**\n",
    "\n",
    "### 1. Accuracy\n",
    "\n",
    "**Formula:**\n",
    "$$\n",
    "\\text{Accuracy} = \\frac{TP + TN}{TP + TN + FP + FN}\n",
    "$$\n",
    "\n",
    "**Description:**\n",
    "- Measures the overall correctness of the S3VM model's predictions.\n",
    "- Compares the number of correct predictions to the total predictions.\n",
    "\n",
    "**Interpretation:**\n",
    "- Higher accuracy indicates better performance.\n",
    "- Can be misleading if the dataset is imbalanced.\n",
    "\n",
    "---\n",
    "\n",
    "### 2. Precision\n",
    "\n",
    "**Formula:**\n",
    "$$\n",
    "\\text{Precision} = \\frac{TP}{TP + FP}\n",
    "$$\n",
    "\n",
    "**Description:**\n",
    "- Measures the proportion of correctly predicted positive samples out of all predicted positives.\n",
    "- Helps assess the reliability of the S3VM model’s positive predictions.\n",
    "\n",
    "**Interpretation:**\n",
    "- High precision means fewer false positives.\n",
    "- Important when false positives are costly.\n",
    "\n",
    "---\n",
    "\n",
    "### 3. Recall (Sensitivity)\n",
    "\n",
    "**Formula:**\n",
    "$$\n",
    "\\text{Recall} = \\frac{TP}{TP + FN}\n",
    "$$\n",
    "\n",
    "**Description:**\n",
    "- Measures how many actual positives were correctly identified by the S3VM.\n",
    "- Crucial when detecting all possible positives is important.\n",
    "\n",
    "**Interpretation:**\n",
    "- High recall means fewer false negatives.\n",
    "- Important for detecting rare events or critical positive samples.\n",
    "\n",
    "---\n",
    "\n",
    "### 4. F1-Score\n",
    "\n",
    "**Formula:**\n",
    "$$\n",
    "F1 = 2 \\times \\frac{\\text{Precision} \\times \\text{Recall}}{\\text{Precision} + \\text{Recall}}\n",
    "$$\n",
    "\n",
    "**Description:**\n",
    "- A harmonic mean between precision and recall.\n",
    "- Useful for evaluating S3VM performance in cases of imbalanced datasets.\n",
    "\n",
    "**Interpretation:**\n",
    "- Higher F1-score indicates a good balance between precision and recall.\n",
    "- Valuable when both false positives and false negatives are costly.\n",
    "\n",
    "---\n",
    "\n",
    "### 5. Confusion Matrix\n",
    "\n",
    "**Description:**\n",
    "- A table summarizing true positives (TP), false positives (FP), true negatives (TN), and false negatives (FN).\n",
    "- Helps in understanding how well the S3VM model distinguishes between classes.\n",
    "\n",
    "**Interpretation:**\n",
    "- Visualizes classification errors.\n",
    "- Important for analyzing model mistakes, especially for complex data.\n",
    "\n",
    "---\n",
    "\n",
    "### 6. AUC-ROC Curve\n",
    "\n",
    "**Description:**\n",
    "- Plots True Positive Rate (TPR) vs. False Positive Rate (FPR).\n",
    "- AUC (Area Under Curve) measures the overall performance of the S3VM model.\n",
    "\n",
    "**Interpretation:**\n",
    "- **AUC = 1** → Perfect model.\n",
    "- **AUC > 0.8** → Strong model.\n",
    "- **AUC = 0.5** → Random guessing.\n",
    "\n",
    "---\n",
    "\n",
    "### 7. Margin Distribution\n",
    "\n",
    "**Description:**\n",
    "- S3VM focuses on maximizing the margin between classes.\n",
    "- This metric evaluates how well the support vectors are distributed around the decision boundary.\n",
    "\n",
    "**Interpretation:**\n",
    "- A larger margin typically leads to better generalization.\n",
    "- Helps assess the model’s robustness to noise and variance.\n",
    "\n",
    "---\n",
    "\n",
    "### 8. Number of Support Vectors\n",
    "\n",
    "**Description:**\n",
    "- The number of support vectors used in the S3VM model.\n",
    "- A key factor in understanding model complexity.\n",
    "\n",
    "**Interpretation:**\n",
    "- Too many support vectors may indicate overfitting.\n",
    "- Fewer support vectors suggest a simpler model, but could also lead to underfitting.\n",
    "\n",
    "---\n",
    "\n",
    "### 9. Convergence Rate\n",
    "\n",
    "**Description:**\n",
    "- S3VM involves iterative optimization, and this metric tracks how quickly the model converges to the optimal decision boundary.\n",
    "\n",
    "**Interpretation:**\n",
    "- Faster convergence is ideal, but too rapid convergence may indicate inadequate exploration.\n",
    "- Slower convergence could mean better precision in finding the optimal margin.\n",
    "\n",
    "---\n",
    "\n",
    "### 10. Cross-Validation\n",
    "\n",
    "**Description:**\n",
    "- Cross-validation helps assess the generalization ability of the S3VM model by splitting the dataset into multiple training and validation sets.\n",
    "\n",
    "**Interpretation:**\n",
    "- Reduces overfitting risk.\n",
    "- Provides a more robust estimate of the model’s performance.\n"
   ]
  },
  {
   "cell_type": "markdown",
   "metadata": {},
   "source": [
    "## S3VM (Semi-Supervised Support Vector Machine)\n",
    "\n",
    "### class libsvm.svm.S3VM\n",
    "\n",
    "S3VM is a semi-supervised learning algorithm that combines labeled and unlabeled data for training, and is implemented in the LIBSVM library. It is used for classification tasks, where it iteratively assigns pseudo-labels to unlabeled data.\n",
    "\n",
    "| **Parameter**   | **Description**                                                                 |\n",
    "|-----------------|-------------------------------------------------------------------------------|\n",
    "| C               | Regularization parameter that controls the trade-off between maximizing the margin and minimizing classification errors. |\n",
    "| kernel         | The kernel function used to transform the data, typically `'linear'`, `'rbf'`, etc. |\n",
    "| max_iter       | Maximum number of iterations for training the S3VM model.                    |\n",
    "| tolerance      | Tolerance for stopping criterion, when to stop the iterative process.        |\n",
    "| unlabeled_data | The set of unlabeled data that is used to refine the model's decision boundary. |\n",
    "| nu              | A parameter that controls the fraction of unlabeled data that is allowed to have an incorrect pseudo-label. |\n",
    "\n",
    "-\n",
    "\n",
    "| **Attribute**         | **Description**                                                                 |\n",
    "|-----------------------|-------------------------------------------------------------------------------|\n",
    "| support_vectors_      | The support vectors identified by the SVM during training.                    |\n",
    "| dual_coef_            | Dual coefficients associated with the support vectors in the SVM optimization problem. |\n",
    "| labels_               | The final labels assigned to both labeled and pseudo-labeled (unlabeled) samples after training. |\n",
    "\n",
    "-\n",
    "\n",
    "| **Method**            | **Description**                                                                 |\n",
    "|-----------------------|-------------------------------------------------------------------------------|\n",
    "| fit(X_labeled, y_labeled, X_unlabeled) | Train the S3VM model using both labeled and unlabeled data. The algorithm iteratively assigns pseudo-labels to the unlabeled data based on the current model. |\n",
    "| predict(X)            | Predict labels for input data `X` using the trained S3VM model.              |\n",
    "| decision_function(X)  | Compute the decision function for input `X` (used to classify the data).     |\n",
    "\n",
    "-\n",
    "\n",
    "### Documentation\n",
    "[S3VM Documentation - LIBSVM](https://www.csie.ntu.edu.tw/~cjlin/libsvm/)\n"
   ]
  },
  {
   "cell_type": "code",
   "execution_count": null,
   "metadata": {
    "vscode": {
     "languageId": "plaintext"
    }
   },
   "outputs": [],
   "source": [
    "# XXXXXXXX regression - Example"
   ]
  },
  {
   "cell_type": "markdown",
   "metadata": {},
   "source": [
    "## Data loading"
   ]
  },
  {
   "cell_type": "code",
   "execution_count": null,
   "metadata": {
    "vscode": {
     "languageId": "plaintext"
    }
   },
   "outputs": [],
   "source": []
  },
  {
   "cell_type": "markdown",
   "metadata": {},
   "source": [
    "##  Data processing"
   ]
  },
  {
   "cell_type": "code",
   "execution_count": null,
   "metadata": {
    "vscode": {
     "languageId": "plaintext"
    }
   },
   "outputs": [],
   "source": []
  },
  {
   "cell_type": "markdown",
   "metadata": {},
   "source": [
    "## Plotting data"
   ]
  },
  {
   "cell_type": "code",
   "execution_count": null,
   "metadata": {
    "vscode": {
     "languageId": "plaintext"
    }
   },
   "outputs": [],
   "source": []
  },
  {
   "cell_type": "markdown",
   "metadata": {},
   "source": [
    "## Model definition"
   ]
  },
  {
   "cell_type": "code",
   "execution_count": null,
   "metadata": {
    "vscode": {
     "languageId": "plaintext"
    }
   },
   "outputs": [],
   "source": []
  },
  {
   "cell_type": "markdown",
   "metadata": {},
   "source": [
    "## Model evaulation"
   ]
  },
  {
   "cell_type": "code",
   "execution_count": null,
   "metadata": {
    "vscode": {
     "languageId": "plaintext"
    }
   },
   "outputs": [],
   "source": []
  }
 ],
 "metadata": {
  "language_info": {
   "name": "python"
  }
 },
 "nbformat": 4,
 "nbformat_minor": 2
}
