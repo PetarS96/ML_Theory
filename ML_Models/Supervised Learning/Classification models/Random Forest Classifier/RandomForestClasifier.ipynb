{
 "cells": [
  {
   "cell_type": "markdown",
   "metadata": {},
   "source": [
    "# **Random Forest Classifier Model Theory**\n"
   ]
  },
  {
   "cell_type": "markdown",
   "metadata": {},
   "source": [
    "## Theory\n",
    "Random Forest is an ensemble learning method that constructs multiple decision trees during training and outputs the class that is the mode of the classes (majority vote) of the individual trees.\n",
    "The main idea is to:\n",
    "- Create multiple decision trees using bootstrap samples of the data\n",
    "- Each tree uses a random subset of features at each split\n",
    "- Combine predictions through majority voting\n",
    "- Reduce overfitting through randomization and averaging\n",
    "\n",
    "## Key Components\n",
    "- **Bootstrap Aggregating (Bagging)**:\n",
    "$$ \\text{Sample}_i = \\text{Bootstrap}(D, n) $$\n",
    "where D is the training dataset and n is sample size\n",
    "\n",
    "- **Random Feature Selection**:\n",
    "$$ m = \\sqrt{p} \\text{ or } m = \\log_2(p) $$\n",
    "where p is total number of features and m is features considered per split\n",
    "\n",
    "## Training Process\n",
    "1. **Bootstrap Sample Creation**:\n",
    "- Create N bootstrap samples from training data\n",
    "- Each sample is same size as original dataset\n",
    "- Samples drawn with replacement\n",
    "\n",
    "2. **Tree Construction**:\n",
    "- For each bootstrap sample:\n",
    " - Grow unpruned decision tree\n",
    " - At each node, consider only random subset of features\n",
    " - Split on best feature among random subset\n",
    " - Continue until stopping criteria met\n",
    "\n",
    "3. **Ensemble Formation**:\n",
    "$$ \\text{Prediction} = \\text{mode}(h_1(x), h_2(x), ..., h_N(x)) $$\n",
    "where $h_i(x)$ is prediction of i-th tree\n",
    "\n",
    "## Key Hyperparameters\n",
    "- **n_estimators**: Number of trees in forest\n",
    "- **max_features**: Number of features to consider at each split\n",
    "- **max_depth**: Maximum depth of trees\n",
    "- **min_samples_split**: Minimum samples required to split node\n",
    "- **min_samples_leaf**: Minimum samples required in leaf node\n",
    "\n",
    "## Feature Importance\n",
    "- **Gini Importance**:\n",
    "$$ \\text{Importance}(f) = \\sum_{t \\in \\text{Trees}} \\sum_{n \\in \\text{Nodes}} \\text{Gini decrease}(n,f) $$\n",
    "\n",
    "- **Permutation Importance**:\n",
    "$$ \\text{Importance}(f) = \\text{Error}_{\\text{permuted}} - \\text{Error}_{\\text{original}} $$\n",
    "\n",
    "## Advantages\n",
    "- Less prone to overfitting than single decision trees\n",
    "- Handles high-dimensional data well\n",
    "- Provides feature importance measures\n",
    "- Robust to outliers and non-linear features\n",
    "- Can handle missing values\n",
    "\n",
    "## Disadvantages\n",
    "- More computationally intensive than single decision tree\n",
    "- Less interpretable than single decision tree\n",
    "- May require more memory for large numbers of trees\n",
    "- Prediction time increases with number of trees\n",
    "\n",
    "## Implementation Tips\n",
    "- Use cross-validation to determine optimal number of trees\n",
    "- Consider out-of-bag error for model evaluation\n",
    "- Balance between number of trees and computational resources\n",
    "- For high-dimensional data, increase number of trees\n",
    "- Use feature importance for feature selection"
   ]
  },
  {
   "cell_type": "markdown",
   "metadata": {},
   "source": [
    "## Model Evaluation for Random Forest Classifier\n",
    "\n",
    "### 1. Accuracy Score\n",
    "Formula:\n",
    "$$\n",
    "\\text{Accuracy} = \\frac{\\text{TP} + \\text{TN}}{\\text{TP} + \\text{TN} + \\text{FP} + \\text{FN}}\n",
    "$$\n",
    "Description:\n",
    "- Accuracy measures the overall correctness of predictions across all trees.\n",
    "- Represents the ensemble's collective predictive performance.\n",
    "Interpretation:\n",
    "- Higher accuracy indicates better overall model performance.\n",
    "- More reliable than single decision tree accuracy due to ensemble averaging.\n",
    "---\n",
    "\n",
    "### 2. Out-of-Bag (OOB) Score\n",
    "Formula:\n",
    "$$\n",
    "\\text{OOB Score} = \\frac{1}{n}\\sum_{i=1}^{n} I(\\hat{y}_i^{OOB} = y_i)\n",
    "$$\n",
    "Description:\n",
    "- OOB score is calculated using samples not used in building each tree.\n",
    "- Natural cross-validation mechanism unique to Random Forests.\n",
    "Interpretation:\n",
    "- Provides unbiased estimate of model performance.\n",
    "- No separate test set required for validation.\n",
    "---\n",
    "\n",
    "### 3. Feature Importance\n",
    "Formula:\n",
    "$$\n",
    "\\text{Importance}(x_i) = \\frac{1}{T}\\sum_{t=1}^{T} \\sum_{j \\in \\text{splits on }x_i} n_j \\cdot \\Delta\\text{impurity}_j\n",
    "$$\n",
    "Description:\n",
    "- Aggregates feature importance across all trees in the forest.\n",
    "- Based on decrease in impurity weighted by number of samples.\n",
    "Interpretation:\n",
    "- Higher values indicate more influential features.\n",
    "- More robust than single decision tree importance scores.\n",
    "---\n",
    "\n",
    "### 4. Proximity Matrix\n",
    "Description:\n",
    "- Measures similarity between data points based on tree co-occurrence.\n",
    "- Records how often pairs of observations land in the same terminal nodes.\n",
    "Interpretation:\n",
    "- Higher proximity values indicate more similar observations.\n",
    "- Useful for outlier detection and data structure analysis.\n",
    "---\n",
    "\n",
    "### 5. Vote Distribution\n",
    "Formula:\n",
    "$$\n",
    "\\text{Vote Probability}_i = \\frac{\\text{Number of votes for class i}}{\\text{Total number of trees}}\n",
    "$$\n",
    "Description:\n",
    "- Distribution of votes across all trees for each prediction.\n",
    "- Provides confidence measure for predictions.\n",
    "Interpretation:\n",
    "- More uniform distribution indicates uncertainty.\n",
    "- Strong majority suggests higher confidence in prediction.\n",
    "---\n",
    "\n",
    "### 6. Gini Importance\n",
    "Formula:\n",
    "$$\n",
    "\\text{Gini Importance} = \\sum_{t \\in \\text{trees}} \\sum_{n \\in \\text{nodes}} p(n) \\Delta i(n)\n",
    "$$\n",
    "Description:\n",
    "- Measures node impurity decrease across all trees.\n",
    "- Weighted by number of samples reaching the node.\n",
    "Interpretation:\n",
    "- Higher values indicate more discriminative features.\n",
    "- Used for feature selection and ranking.\n",
    "---\n",
    "\n",
    "### 7. Bootstrap Aggregation Metrics\n",
    "Description:\n",
    "- Analyzes variance reduction through bootstrapping.\n",
    "- Measures diversity among individual trees.\n",
    "Interpretation:\n",
    "- Higher diversity generally indicates better ensemble performance.\n",
    "- Helps in understanding model stability.\n",
    "---\n",
    "\n",
    "### 8. Mean Decrease in Accuracy\n",
    "Description:\n",
    "- Measures accuracy drop when a feature is permuted.\n",
    "- Calculated separately for each feature across all trees.\n",
    "Interpretation:\n",
    "- Larger decrease indicates more important features.\n",
    "- More reliable than single-tree importance measures.\n",
    "---\n",
    "\n",
    "### 9. Cross-Validation Performance\n",
    "Description:\n",
    "- K-fold cross-validation results across multiple metrics.\n",
    "- Includes variance measures of forest performance.\n",
    "Interpretation:\n",
    "- Low variance indicates stable model performance.\n",
    "- More reliable than single decision tree cross-validation.\n",
    "---\n",
    "\n",
    "### 10. Confusion Matrix\n",
    "Description:\n",
    "- Aggregated prediction outcomes across all trees:\n",
    " - True Positives (TP)\n",
    " - True Negatives (TN)\n",
    " - False Positives (FP)\n",
    " - False Negatives (FN)\n",
    "Interpretation:\n",
    "- More stable than single decision tree confusion matrix.\n",
    "- Used for analyzing class-specific performance.\n",
    "---"
   ]
  },
  {
   "cell_type": "markdown",
   "metadata": {},
   "source": [
    "## sklearn template [RandomForestClassifier](https://scikit-learn.org/stable/modules/generated/sklearn.ensemble.RandomForestClassifier.html)\n",
    "\n",
    "### class sklearn.ensemble.RandomForestClassifier(n_estimators=100, *, criterion='gini', max_depth=None, min_samples_split=2, min_samples_leaf=1, max_features='sqrt', bootstrap=True, random_state=None, max_leaf_nodes=None, n_jobs=None, class_weight=None)\n",
    "\n",
    "| **Parameter**               | **Description**                                                                                                                                     | **Default**      |\n",
    "|----------------------------|----------------------------------------------------------------------------------------------------------------------------------------------------|------------------|\n",
    "| `n_estimators`             | The number of trees in the forest                                                                                                                   | `100`            |\n",
    "| `criterion`                | Function to measure split quality ('gini', 'entropy', 'log_loss')                                                                                    | `gini`           |\n",
    "| `max_depth`                | Maximum depth of the trees. If None, nodes expanded until pure leaves                                                                               | `None`           |\n",
    "| `min_samples_split`        | Minimum samples required to split internal node                                                                                                     | `2`              |\n",
    "| `min_samples_leaf`         | Minimum samples required at leaf node                                                                                                              | `1`              |\n",
    "| `max_features`             | Number of features to consider for best split ('sqrt', 'log2', int, float)                                                                         | `sqrt`           |\n",
    "| `bootstrap`                | Whether bootstrap samples are used when building trees                                                                                              | `True`           |\n",
    "| `n_jobs`                   | Number of parallel jobs. None means 1, -1 means all processors                                                                                      | `None`           |\n",
    "| `random_state`             | Controls randomness in bootstrapping and feature selection                                                                                          | `None`           |\n",
    "| `class_weight`             | Weights for classes (dict, 'balanced', 'balanced_subsample')                                                                                        | `None`           |\n",
    "\n",
    "-\n",
    "\n",
    "| **Attribute**              | **Description**                                                                                                                                     |\n",
    "|----------------------------|----------------------------------------------------------------------------------------------------------------------------------------------------|\n",
    "| `classes_`                 | The classes labels                                                                                                                                  |\n",
    "| `feature_importances_`     | The impurity-based feature importances                                                                                                             |\n",
    "| `n_classes_`               | The number of classes                                                                                                                               |\n",
    "| `n_features_in_`           | Number of features seen during fit                                                                                                                  |\n",
    "| `estimators_`              | The collection of fitted sub-estimators (trees)                                                                                                     |\n",
    "| `oob_score_`              | Score on out-of-bag samples (only if oob_score=True)                                                                                                |\n",
    "\n",
    "-\n",
    "\n",
    "| **Method**                 | **Description**                                                                                                                                     |\n",
    "|----------------------------|----------------------------------------------------------------------------------------------------------------------------------------------------|\n",
    "| `fit(X, y)`                | Build a forest of trees from training set                                                                                                           |\n",
    "| `predict(X)`               | Predict class for X                                                                                                                                 |\n",
    "| `predict_proba(X)`         | Predict class probabilities for X                                                                                                                   |\n",
    "| `score(X, y)`              | Return the mean accuracy on test data and labels                                                                                                    |\n",
    "| `apply(X)`                 | Apply trees in the forest to X, return leaf indices                                                                                                 |\n",
    "| `decision_path(X)`         | Return the decision path in the forest                                                                                                              |"
   ]
  },
  {
   "cell_type": "markdown",
   "metadata": {},
   "source": [
    "# Random Forest Classifier - Example"
   ]
  },
  {
   "cell_type": "markdown",
   "metadata": {},
   "source": [
    "## Data loading"
   ]
  },
  {
   "cell_type": "code",
   "execution_count": 1,
   "metadata": {},
   "outputs": [
    {
     "data": {
      "text/html": [
       "<div>\n",
       "<style scoped>\n",
       "    .dataframe tbody tr th:only-of-type {\n",
       "        vertical-align: middle;\n",
       "    }\n",
       "\n",
       "    .dataframe tbody tr th {\n",
       "        vertical-align: top;\n",
       "    }\n",
       "\n",
       "    .dataframe thead th {\n",
       "        text-align: right;\n",
       "    }\n",
       "</style>\n",
       "<table border=\"1\" class=\"dataframe\">\n",
       "  <thead>\n",
       "    <tr style=\"text-align: right;\">\n",
       "      <th></th>\n",
       "      <th>buying</th>\n",
       "      <th>maint</th>\n",
       "      <th>doors</th>\n",
       "      <th>persons</th>\n",
       "      <th>lug_boot</th>\n",
       "      <th>safety</th>\n",
       "      <th>class</th>\n",
       "    </tr>\n",
       "  </thead>\n",
       "  <tbody>\n",
       "    <tr>\n",
       "      <th>0</th>\n",
       "      <td>vhigh</td>\n",
       "      <td>vhigh</td>\n",
       "      <td>2</td>\n",
       "      <td>2</td>\n",
       "      <td>small</td>\n",
       "      <td>low</td>\n",
       "      <td>unacc</td>\n",
       "    </tr>\n",
       "    <tr>\n",
       "      <th>1</th>\n",
       "      <td>vhigh</td>\n",
       "      <td>vhigh</td>\n",
       "      <td>2</td>\n",
       "      <td>2</td>\n",
       "      <td>small</td>\n",
       "      <td>med</td>\n",
       "      <td>unacc</td>\n",
       "    </tr>\n",
       "    <tr>\n",
       "      <th>2</th>\n",
       "      <td>vhigh</td>\n",
       "      <td>vhigh</td>\n",
       "      <td>2</td>\n",
       "      <td>2</td>\n",
       "      <td>small</td>\n",
       "      <td>high</td>\n",
       "      <td>unacc</td>\n",
       "    </tr>\n",
       "    <tr>\n",
       "      <th>3</th>\n",
       "      <td>vhigh</td>\n",
       "      <td>vhigh</td>\n",
       "      <td>2</td>\n",
       "      <td>2</td>\n",
       "      <td>med</td>\n",
       "      <td>low</td>\n",
       "      <td>unacc</td>\n",
       "    </tr>\n",
       "    <tr>\n",
       "      <th>4</th>\n",
       "      <td>vhigh</td>\n",
       "      <td>vhigh</td>\n",
       "      <td>2</td>\n",
       "      <td>2</td>\n",
       "      <td>med</td>\n",
       "      <td>med</td>\n",
       "      <td>unacc</td>\n",
       "    </tr>\n",
       "  </tbody>\n",
       "</table>\n",
       "</div>"
      ],
      "text/plain": [
       "  buying  maint doors persons lug_boot safety  class\n",
       "0  vhigh  vhigh     2       2    small    low  unacc\n",
       "1  vhigh  vhigh     2       2    small    med  unacc\n",
       "2  vhigh  vhigh     2       2    small   high  unacc\n",
       "3  vhigh  vhigh     2       2      med    low  unacc\n",
       "4  vhigh  vhigh     2       2      med    med  unacc"
      ]
     },
     "execution_count": 1,
     "metadata": {},
     "output_type": "execute_result"
    }
   ],
   "source": [
    "import numpy as np # linear algebra\n",
    "import pandas as pd # data processing, CSV file I/O\n",
    "\n",
    "\n",
    "data = '/home/petar-ubuntu/Learning/ML_Theory/ML_Models/Supervised Learning/Classification models/Random Forest Classifier/data/car_evaluation.csv'\n",
    "\n",
    "df = pd.read_csv(data, header=None)\n",
    "\n",
    "col_names = ['buying', 'maint', 'doors', 'persons', 'lug_boot', 'safety', 'class']\n",
    "df.columns = col_names\n",
    "\n",
    "df.head()"
   ]
  },
  {
   "cell_type": "markdown",
   "metadata": {},
   "source": [
    "##  Data processing"
   ]
  },
  {
   "cell_type": "code",
   "execution_count": 2,
   "metadata": {},
   "outputs": [
    {
     "data": {
      "text/plain": [
       "buying      0\n",
       "maint       0\n",
       "doors       0\n",
       "persons     0\n",
       "lug_boot    0\n",
       "safety      0\n",
       "class       0\n",
       "dtype: int64"
      ]
     },
     "execution_count": 2,
     "metadata": {},
     "output_type": "execute_result"
    }
   ],
   "source": [
    "# check missing values in variables\n",
    "\n",
    "df.isnull().sum()"
   ]
  },
  {
   "cell_type": "code",
   "execution_count": 3,
   "metadata": {},
   "outputs": [],
   "source": [
    "X = df.drop(['class'], axis=1)\n",
    "\n",
    "y = df['class']\n",
    "\n",
    "# split data into training and testing sets\n",
    "\n",
    "from sklearn.model_selection import train_test_split\n",
    "\n",
    "X_train, X_test, y_train, y_test = train_test_split(X, y, test_size = 0.33, random_state = 42)"
   ]
  },
  {
   "cell_type": "code",
   "execution_count": 4,
   "metadata": {},
   "outputs": [],
   "source": [
    "# import category encoders\n",
    "\n",
    "import category_encoders as ce\n",
    "\n",
    "# encode categorical variables with ordinal encoding\n",
    "encoder = ce.OrdinalEncoder(cols=['buying', 'maint', 'doors', 'persons', 'lug_boot', 'safety'])\n",
    "\n",
    "X_train = encoder.fit_transform(X_train)\n",
    "\n",
    "X_test = encoder.transform(X_test)"
   ]
  },
  {
   "cell_type": "markdown",
   "metadata": {},
   "source": [
    "## Plotting data"
   ]
  },
  {
   "cell_type": "code",
   "execution_count": null,
   "metadata": {},
   "outputs": [],
   "source": []
  },
  {
   "cell_type": "markdown",
   "metadata": {},
   "source": [
    "## Model definition"
   ]
  },
  {
   "cell_type": "code",
   "execution_count": 7,
   "metadata": {},
   "outputs": [],
   "source": [
    "from sklearn.ensemble import RandomForestClassifier\n",
    "\n",
    "# instantiate the classifier with n_estimators = 100\n",
    "rfc_100 = RandomForestClassifier(n_estimators=100, random_state=0)\n",
    "\n",
    "\n",
    "# fit the model to the training set\n",
    "rfc_100.fit(X_train, y_train)\n",
    "\n",
    "\n",
    "# Predict on the test set results\n",
    "y_pred_100 = rfc_100.predict(X_test)"
   ]
  },
  {
   "cell_type": "markdown",
   "metadata": {},
   "source": [
    "## Model evaulation"
   ]
  },
  {
   "cell_type": "code",
   "execution_count": 9,
   "metadata": {},
   "outputs": [
    {
     "name": "stdout",
     "output_type": "stream",
     "text": [
      "Model accuracy score with 100 decision-trees : 0.9457\n"
     ]
    }
   ],
   "source": [
    "# Check accuracy score \n",
    "from sklearn.metrics import accuracy_score\n",
    "\n",
    "print('Model accuracy score with 100 decision-trees : {0:0.4f}'. format(accuracy_score(y_test, y_pred_100)))"
   ]
  },
  {
   "cell_type": "code",
   "execution_count": 12,
   "metadata": {},
   "outputs": [
    {
     "data": {
      "image/png": "[encoded data removed]",
      "text/plain": [
       "<Figure size 640x480 with 1 Axes>"
      ]
     },
     "metadata": {},
     "output_type": "display_data"
    }
   ],
   "source": [
    "import matplotlib.pyplot as plt # data visualization\n",
    "import seaborn as sns # statistical data visualization\n",
    "\n",
    "# create the classifier with n_estimators = 100\n",
    "clf = RandomForestClassifier(n_estimators=100, random_state=0)\n",
    "\n",
    "# fit the model to the training set\n",
    "clf.fit(X_train, y_train)\n",
    "\n",
    "# view the feature scores\n",
    "feature_scores = pd.Series(clf.feature_importances_, index=X_train.columns).sort_values(ascending=False)\n",
    "\n",
    "# Creating a seaborn bar plot\n",
    "\n",
    "sns.barplot(x=feature_scores, y=feature_scores.index)\n",
    "\n",
    "# Add labels to the graph\n",
    "plt.xlabel('Feature Importance Score')\n",
    "plt.ylabel('Features')\n",
    "plt.title(\"Visualizing Important Features\")\n",
    "\n",
    "plt.show()"
   ]
  },
  {
   "cell_type": "code",
   "execution_count": 13,
   "metadata": {},
   "outputs": [
    {
     "name": "stdout",
     "output_type": "stream",
     "text": [
      "              precision    recall  f1-score   support\n",
      "\n",
      "         acc       0.90      0.88      0.89       129\n",
      "        good       0.61      0.85      0.71        20\n",
      "       unacc       0.99      0.98      0.98       397\n",
      "       vgood       0.87      0.80      0.83        25\n",
      "\n",
      "    accuracy                           0.95       571\n",
      "   macro avg       0.84      0.88      0.85       571\n",
      "weighted avg       0.95      0.95      0.95       571\n",
      "\n"
     ]
    }
   ],
   "source": [
    "from sklearn.metrics import classification_report\n",
    "\n",
    "print(classification_report(y_test, y_pred_100))"
   ]
  },
  {
   "cell_type": "code",
   "execution_count": 14,
   "metadata": {},
   "outputs": [
    {
     "name": "stdout",
     "output_type": "stream",
     "text": [
      "Confusion matrix\n",
      "\n",
      " [[114   9   4   2]\n",
      " [  2  17   0   1]\n",
      " [  8   0 389   0]\n",
      " [  3   2   0  20]]\n"
     ]
    }
   ],
   "source": [
    "# Print the Confusion Matrix and slice it into four pieces\n",
    "\n",
    "from sklearn.metrics import confusion_matrix\n",
    "\n",
    "cm = confusion_matrix(y_test, y_pred_100)\n",
    "\n",
    "print('Confusion matrix\\n\\n', cm)"
   ]
  },
  {
   "cell_type": "code",
   "execution_count": null,
   "metadata": {},
   "outputs": [],
   "source": []
  }
 ],
 "metadata": {
  "kernelspec": {
   "display_name": ".venv",
   "language": "python",
   "name": "python3"
  },
  "language_info": {
   "codemirror_mode": {
    "name": "ipython",
    "version": 3
   },
   "file_extension": ".py",
   "mimetype": "text/x-python",
   "name": "python",
   "nbconvert_exporter": "python",
   "pygments_lexer": "ipython3",
   "version": "3.12.3"
  }
 },
 "nbformat": 4,
 "nbformat_minor": 2
}
